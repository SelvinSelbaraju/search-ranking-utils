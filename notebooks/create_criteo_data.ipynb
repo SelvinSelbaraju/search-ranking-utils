{
 "cells": [
  {
   "cell_type": "code",
   "execution_count": 36,
   "metadata": {},
   "outputs": [],
   "source": [
    "# Imports\n",
    "import pandas as pd"
   ]
  },
  {
   "cell_type": "code",
   "execution_count": 37,
   "metadata": {},
   "outputs": [],
   "source": [
    "# Name of the variables\n",
    "conti_var = [f'I{i}' for i in range(1, 14)]\n",
    "cat_var = [f'C{i}' for i in range(1,27)]\n",
    "col_names_train = ['Label'] + conti_var + cat_var\n",
    "col_names_test = col_names_train[1:]"
   ]
  },
  {
   "cell_type": "code",
   "execution_count": 38,
   "metadata": {},
   "outputs": [],
   "source": [
    "# Only use a small chunk for the example\n",
    "CHUNKSIZE=20000\n",
    "train_df = pd.read_csv(\"../../Downloads/dac/train.txt\", sep=\"\\t\", chunksize=CHUNKSIZE, names=col_names_train)"
   ]
  },
  {
   "cell_type": "code",
   "execution_count": 39,
   "metadata": {},
   "outputs": [],
   "source": [
    "train_chunk = train_df.get_chunk()\n",
    "test_chunk = train_df.get_chunk()\n",
    "\n",
    "train_chunk[\"query_id\"] = \"query_id\"\n",
    "test_chunk[\"query_id\"] = \"query_id\""
   ]
  },
  {
   "cell_type": "code",
   "execution_count": 40,
   "metadata": {},
   "outputs": [],
   "source": [
    "train_chunk.to_csv(\"../data/criteo/train.csv\", index=False)\n",
    "test_chunk.to_csv(\"../data/criteo/test.csv\", index=False)"
   ]
  }
 ],
 "metadata": {
  "kernelspec": {
   "display_name": "search-ranking-utils-sPc4OAIj-py3.10",
   "language": "python",
   "name": "python3"
  },
  "language_info": {
   "codemirror_mode": {
    "name": "ipython",
    "version": 3
   },
   "file_extension": ".py",
   "mimetype": "text/x-python",
   "name": "python",
   "nbconvert_exporter": "python",
   "pygments_lexer": "ipython3",
   "version": "3.10.0"
  }
 },
 "nbformat": 4,
 "nbformat_minor": 2
}
